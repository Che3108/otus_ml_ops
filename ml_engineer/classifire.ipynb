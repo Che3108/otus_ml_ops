{
 "cells": [
  {
   "cell_type": "code",
   "execution_count": 1,
   "id": "265979fa-d42b-43fe-91f1-79bfe3ecc22e",
   "metadata": {},
   "outputs": [
    {
     "name": "stderr",
     "output_type": "stream",
     "text": [
      "2024-06-23 02:45:17.668681: I external/local_tsl/tsl/cuda/cudart_stub.cc:32] Could not find cuda drivers on your machine, GPU will not be used.\n",
      "2024-06-23 02:45:17.720800: I external/local_tsl/tsl/cuda/cudart_stub.cc:32] Could not find cuda drivers on your machine, GPU will not be used.\n",
      "2024-06-23 02:45:17.952312: I tensorflow/core/platform/cpu_feature_guard.cc:210] This TensorFlow binary is optimized to use available CPU instructions in performance-critical operations.\n",
      "To enable the following instructions: AVX2 FMA, in other operations, rebuild TensorFlow with the appropriate compiler flags.\n",
      "2024-06-23 02:45:18.996703: W tensorflow/compiler/tf2tensorrt/utils/py_utils.cc:38] TF-TRT Warning: Could not find TensorRT\n"
     ]
    }
   ],
   "source": [
    "# библиотеки\n",
    "from tensorflow.keras.models import Model\n",
    "from tensorflow.keras.layers import Dense, Input, Conv2D, MaxPooling2D, Flatten\n",
    "from tensorflow.keras.datasets import mnist\n",
    "from tensorflow.keras.utils import to_categorical\n",
    "from tensorflow.keras.callbacks import EarlyStopping, ModelCheckpoint\n",
    "import numpy as np"
   ]
  },
  {
   "cell_type": "code",
   "execution_count": 2,
   "id": "9a97335a",
   "metadata": {},
   "outputs": [
    {
     "name": "stdout",
     "output_type": "stream",
     "text": [
      "Downloading data from https://storage.googleapis.com/tensorflow/tf-keras-datasets/mnist.npz\n",
      "\u001b[1m11490434/11490434\u001b[0m \u001b[32m━━━━━━━━━━━━━━━━━━━━\u001b[0m\u001b[37m\u001b[0m \u001b[1m5s\u001b[0m 0us/step\n"
     ]
    }
   ],
   "source": [
    "# загрузка датасета\n",
    "(x_train, y_train), (x_test, y_test) = mnist.load_data()"
   ]
  },
  {
   "cell_type": "code",
   "execution_count": 3,
   "id": "d59c7cf9",
   "metadata": {},
   "outputs": [
    {
     "name": "stdout",
     "output_type": "stream",
     "text": [
      "x_train_conv.shape = (60000, 28, 28, 1)\n",
      "x_test_conv.shape  = (10000, 28, 28, 1)\n",
      "y_train_OHE.shape = (60000, 10)\n",
      "y_test_OHE.shape  = (10000, 10)\n"
     ]
    }
   ],
   "source": [
    "# предподготовка данных\n",
    "# нормируем и приведем к требуемому формату данные\n",
    "x_train_conv = x_train.astype('float32') / 255.\n",
    "x_test_conv  = x_test.astype('float32') / 255.\n",
    "x_train_conv = np.reshape(x_train_conv, (len(x_train), 28, 28, 1))\n",
    "x_test_conv  = np.reshape(x_test_conv,  (len(x_test),  28, 28, 1))\n",
    "print('x_train_conv.shape =', x_train_conv.shape)\n",
    "print('x_test_conv.shape  =', x_test_conv.shape)\n",
    "\n",
    "# подготовка правильных ответов\n",
    "y_train_OHE = to_categorical(y_train, 10)\n",
    "y_test_OHE = to_categorical(y_test, 10)\n",
    "print('y_train_OHE.shape =', y_train_OHE.shape)\n",
    "print('y_test_OHE.shape  =', y_test_OHE.shape)"
   ]
  },
  {
   "cell_type": "code",
   "execution_count": 4,
   "id": "e60e40d5",
   "metadata": {},
   "outputs": [],
   "source": [
    "# нейронная сеть\n",
    "x_inp = Input((28,28,1), name='Input')\n",
    "\n",
    "x = Conv2D(4, (2, 2), padding='same', activation='relu', name='Conv_1_blok_1')(x_inp)\n",
    "x = Conv2D(4, (2,2), padding='same', activation='relu', name='Conv_2_blok_1')(x)\n",
    "x = MaxPooling2D((2,2), name='MaxPoling_blok_1')(x)\n",
    "\n",
    "x = Conv2D(8, (2,2), padding='same', activation='relu', name='Conv_1_blok_2')(x)\n",
    "x = Conv2D(8, (2,2), padding='same', activation='relu', name='Conv_2_blok_2')(x)\n",
    "x = MaxPooling2D((2,2), name='MaxPoling_blok_2')(x)\n",
    "\n",
    "x = Flatten(name='Flatten')(x)\n",
    "\n",
    "x = Dense(10, activation='sigmoid', name='outer_Dense')(x)\n",
    "model_conv = Model(x_inp, x)"
   ]
  },
  {
   "cell_type": "code",
   "execution_count": 5,
   "id": "c40bb064",
   "metadata": {},
   "outputs": [],
   "source": [
    "# компиляция\n",
    "model_conv.compile(loss='categorical_crossentropy', optimizer='adam', metrics=['accuracy'])"
   ]
  },
  {
   "cell_type": "code",
   "execution_count": 8,
   "id": "eb856dac",
   "metadata": {},
   "outputs": [],
   "source": [
    "# callbacks\n",
    "es = EarlyStopping(monitor='val_loss', patience=3, verbose=1)\n",
    "mch = ModelCheckpoint(\n",
    "    \"classifire.keras\",\n",
    "    monitor='val_loss',\n",
    "    verbose=1,\n",
    "    save_best_only=True,\n",
    "    save_weights_only=False,\n",
    "    mode='min',\n",
    "    save_freq='epoch'\n",
    ")"
   ]
  },
  {
   "cell_type": "code",
   "execution_count": 9,
   "id": "230282de",
   "metadata": {},
   "outputs": [
    {
     "name": "stdout",
     "output_type": "stream",
     "text": [
      "Epoch 1/100\n",
      "\u001b[1m465/469\u001b[0m \u001b[32m━━━━━━━━━━━━━━━━━━━\u001b[0m\u001b[37m━\u001b[0m \u001b[1m0s\u001b[0m 10ms/step - accuracy: 0.8827 - loss: 0.3748\n",
      "Epoch 1: val_loss improved from inf to 0.17028, saving model to classifire.keras\n",
      "\u001b[1m469/469\u001b[0m \u001b[32m━━━━━━━━━━━━━━━━━━━━\u001b[0m\u001b[37m\u001b[0m \u001b[1m5s\u001b[0m 11ms/step - accuracy: 0.8830 - loss: 0.3738 - val_accuracy: 0.9473 - val_loss: 0.1703\n",
      "Epoch 2/100\n",
      "\u001b[1m466/469\u001b[0m \u001b[32m━━━━━━━━━━━━━━━━━━━\u001b[0m\u001b[37m━\u001b[0m \u001b[1m0s\u001b[0m 10ms/step - accuracy: 0.9479 - loss: 0.1653\n",
      "Epoch 2: val_loss improved from 0.17028 to 0.12412, saving model to classifire.keras\n",
      "\u001b[1m469/469\u001b[0m \u001b[32m━━━━━━━━━━━━━━━━━━━━\u001b[0m\u001b[37m\u001b[0m \u001b[1m5s\u001b[0m 11ms/step - accuracy: 0.9479 - loss: 0.1652 - val_accuracy: 0.9605 - val_loss: 0.1241\n",
      "Epoch 3/100\n",
      "\u001b[1m467/469\u001b[0m \u001b[32m━━━━━━━━━━━━━━━━━━━\u001b[0m\u001b[37m━\u001b[0m \u001b[1m0s\u001b[0m 10ms/step - accuracy: 0.9609 - loss: 0.1222\n",
      "Epoch 3: val_loss improved from 0.12412 to 0.10226, saving model to classifire.keras\n",
      "\u001b[1m469/469\u001b[0m \u001b[32m━━━━━━━━━━━━━━━━━━━━\u001b[0m\u001b[37m\u001b[0m \u001b[1m5s\u001b[0m 11ms/step - accuracy: 0.9609 - loss: 0.1222 - val_accuracy: 0.9705 - val_loss: 0.1023\n",
      "Epoch 4/100\n",
      "\u001b[1m468/469\u001b[0m \u001b[32m━━━━━━━━━━━━━━━━━━━\u001b[0m\u001b[37m━\u001b[0m \u001b[1m0s\u001b[0m 10ms/step - accuracy: 0.9693 - loss: 0.1010\n",
      "Epoch 4: val_loss improved from 0.10226 to 0.07927, saving model to classifire.keras\n",
      "\u001b[1m469/469\u001b[0m \u001b[32m━━━━━━━━━━━━━━━━━━━━\u001b[0m\u001b[37m\u001b[0m \u001b[1m5s\u001b[0m 10ms/step - accuracy: 0.9694 - loss: 0.1009 - val_accuracy: 0.9755 - val_loss: 0.0793\n",
      "Epoch 5/100\n",
      "\u001b[1m466/469\u001b[0m \u001b[32m━━━━━━━━━━━━━━━━━━━\u001b[0m\u001b[37m━\u001b[0m \u001b[1m0s\u001b[0m 10ms/step - accuracy: 0.9741 - loss: 0.0818\n",
      "Epoch 5: val_loss improved from 0.07927 to 0.07512, saving model to classifire.keras\n",
      "\u001b[1m469/469\u001b[0m \u001b[32m━━━━━━━━━━━━━━━━━━━━\u001b[0m\u001b[37m\u001b[0m \u001b[1m5s\u001b[0m 11ms/step - accuracy: 0.9741 - loss: 0.0818 - val_accuracy: 0.9754 - val_loss: 0.0751\n",
      "Epoch 6/100\n",
      "\u001b[1m468/469\u001b[0m \u001b[32m━━━━━━━━━━━━━━━━━━━\u001b[0m\u001b[37m━\u001b[0m \u001b[1m0s\u001b[0m 10ms/step - accuracy: 0.9770 - loss: 0.0740\n",
      "Epoch 6: val_loss improved from 0.07512 to 0.06767, saving model to classifire.keras\n",
      "\u001b[1m469/469\u001b[0m \u001b[32m━━━━━━━━━━━━━━━━━━━━\u001b[0m\u001b[37m\u001b[0m \u001b[1m5s\u001b[0m 10ms/step - accuracy: 0.9770 - loss: 0.0740 - val_accuracy: 0.9780 - val_loss: 0.0677\n",
      "Epoch 7/100\n",
      "\u001b[1m466/469\u001b[0m \u001b[32m━━━━━━━━━━━━━━━━━━━\u001b[0m\u001b[37m━\u001b[0m \u001b[1m0s\u001b[0m 10ms/step - accuracy: 0.9777 - loss: 0.0701\n",
      "Epoch 7: val_loss improved from 0.06767 to 0.06745, saving model to classifire.keras\n",
      "\u001b[1m469/469\u001b[0m \u001b[32m━━━━━━━━━━━━━━━━━━━━\u001b[0m\u001b[37m\u001b[0m \u001b[1m5s\u001b[0m 11ms/step - accuracy: 0.9777 - loss: 0.0701 - val_accuracy: 0.9798 - val_loss: 0.0674\n",
      "Epoch 8/100\n",
      "\u001b[1m464/469\u001b[0m \u001b[32m━━━━━━━━━━━━━━━━━━━\u001b[0m\u001b[37m━\u001b[0m \u001b[1m0s\u001b[0m 9ms/step - accuracy: 0.9812 - loss: 0.0597\n",
      "Epoch 8: val_loss improved from 0.06745 to 0.06405, saving model to classifire.keras\n",
      "\u001b[1m469/469\u001b[0m \u001b[32m━━━━━━━━━━━━━━━━━━━━\u001b[0m\u001b[37m\u001b[0m \u001b[1m5s\u001b[0m 10ms/step - accuracy: 0.9812 - loss: 0.0597 - val_accuracy: 0.9795 - val_loss: 0.0641\n",
      "Epoch 9/100\n",
      "\u001b[1m469/469\u001b[0m \u001b[32m━━━━━━━━━━━━━━━━━━━━\u001b[0m\u001b[37m\u001b[0m \u001b[1m0s\u001b[0m 10ms/step - accuracy: 0.9812 - loss: 0.0591\n",
      "Epoch 9: val_loss improved from 0.06405 to 0.05817, saving model to classifire.keras\n",
      "\u001b[1m469/469\u001b[0m \u001b[32m━━━━━━━━━━━━━━━━━━━━\u001b[0m\u001b[37m\u001b[0m \u001b[1m5s\u001b[0m 11ms/step - accuracy: 0.9812 - loss: 0.0591 - val_accuracy: 0.9806 - val_loss: 0.0582\n",
      "Epoch 10/100\n",
      "\u001b[1m467/469\u001b[0m \u001b[32m━━━━━━━━━━━━━━━━━━━\u001b[0m\u001b[37m━\u001b[0m \u001b[1m0s\u001b[0m 10ms/step - accuracy: 0.9831 - loss: 0.0555\n",
      "Epoch 10: val_loss improved from 0.05817 to 0.05431, saving model to classifire.keras\n",
      "\u001b[1m469/469\u001b[0m \u001b[32m━━━━━━━━━━━━━━━━━━━━\u001b[0m\u001b[37m\u001b[0m \u001b[1m5s\u001b[0m 11ms/step - accuracy: 0.9831 - loss: 0.0555 - val_accuracy: 0.9823 - val_loss: 0.0543\n",
      "Epoch 11/100\n",
      "\u001b[1m464/469\u001b[0m \u001b[32m━━━━━━━━━━━━━━━━━━━\u001b[0m\u001b[37m━\u001b[0m \u001b[1m0s\u001b[0m 10ms/step - accuracy: 0.9844 - loss: 0.0516\n",
      "Epoch 11: val_loss did not improve from 0.05431\n",
      "\u001b[1m469/469\u001b[0m \u001b[32m━━━━━━━━━━━━━━━━━━━━\u001b[0m\u001b[37m\u001b[0m \u001b[1m5s\u001b[0m 11ms/step - accuracy: 0.9844 - loss: 0.0517 - val_accuracy: 0.9803 - val_loss: 0.0628\n",
      "Epoch 12/100\n",
      "\u001b[1m469/469\u001b[0m \u001b[32m━━━━━━━━━━━━━━━━━━━━\u001b[0m\u001b[37m\u001b[0m \u001b[1m0s\u001b[0m 10ms/step - accuracy: 0.9834 - loss: 0.0519\n",
      "Epoch 12: val_loss did not improve from 0.05431\n",
      "\u001b[1m469/469\u001b[0m \u001b[32m━━━━━━━━━━━━━━━━━━━━\u001b[0m\u001b[37m\u001b[0m \u001b[1m5s\u001b[0m 11ms/step - accuracy: 0.9834 - loss: 0.0519 - val_accuracy: 0.9813 - val_loss: 0.0558\n",
      "Epoch 13/100\n",
      "\u001b[1m468/469\u001b[0m \u001b[32m━━━━━━━━━━━━━━━━━━━\u001b[0m\u001b[37m━\u001b[0m \u001b[1m0s\u001b[0m 10ms/step - accuracy: 0.9850 - loss: 0.0519\n",
      "Epoch 13: val_loss improved from 0.05431 to 0.05332, saving model to classifire.keras\n",
      "\u001b[1m469/469\u001b[0m \u001b[32m━━━━━━━━━━━━━━━━━━━━\u001b[0m\u001b[37m\u001b[0m \u001b[1m5s\u001b[0m 11ms/step - accuracy: 0.9850 - loss: 0.0518 - val_accuracy: 0.9817 - val_loss: 0.0533\n",
      "Epoch 14/100\n",
      "\u001b[1m464/469\u001b[0m \u001b[32m━━━━━━━━━━━━━━━━━━━\u001b[0m\u001b[37m━\u001b[0m \u001b[1m0s\u001b[0m 10ms/step - accuracy: 0.9858 - loss: 0.0473\n",
      "Epoch 14: val_loss did not improve from 0.05332\n",
      "\u001b[1m469/469\u001b[0m \u001b[32m━━━━━━━━━━━━━━━━━━━━\u001b[0m\u001b[37m\u001b[0m \u001b[1m5s\u001b[0m 11ms/step - accuracy: 0.9858 - loss: 0.0473 - val_accuracy: 0.9835 - val_loss: 0.0567\n",
      "Epoch 15/100\n",
      "\u001b[1m468/469\u001b[0m \u001b[32m━━━━━━━━━━━━━━━━━━━\u001b[0m\u001b[37m━\u001b[0m \u001b[1m0s\u001b[0m 11ms/step - accuracy: 0.9862 - loss: 0.0429\n",
      "Epoch 15: val_loss improved from 0.05332 to 0.05286, saving model to classifire.keras\n",
      "\u001b[1m469/469\u001b[0m \u001b[32m━━━━━━━━━━━━━━━━━━━━\u001b[0m\u001b[37m\u001b[0m \u001b[1m5s\u001b[0m 11ms/step - accuracy: 0.9862 - loss: 0.0429 - val_accuracy: 0.9834 - val_loss: 0.0529\n",
      "Epoch 16/100\n",
      "\u001b[1m469/469\u001b[0m \u001b[32m━━━━━━━━━━━━━━━━━━━━\u001b[0m\u001b[37m\u001b[0m \u001b[1m0s\u001b[0m 10ms/step - accuracy: 0.9871 - loss: 0.0440\n",
      "Epoch 16: val_loss did not improve from 0.05286\n",
      "\u001b[1m469/469\u001b[0m \u001b[32m━━━━━━━━━━━━━━━━━━━━\u001b[0m\u001b[37m\u001b[0m \u001b[1m5s\u001b[0m 11ms/step - accuracy: 0.9871 - loss: 0.0440 - val_accuracy: 0.9827 - val_loss: 0.0554\n",
      "Epoch 17/100\n",
      "\u001b[1m468/469\u001b[0m \u001b[32m━━━━━━━━━━━━━━━━━━━\u001b[0m\u001b[37m━\u001b[0m \u001b[1m0s\u001b[0m 10ms/step - accuracy: 0.9863 - loss: 0.0426\n",
      "Epoch 17: val_loss improved from 0.05286 to 0.05181, saving model to classifire.keras\n",
      "\u001b[1m469/469\u001b[0m \u001b[32m━━━━━━━━━━━━━━━━━━━━\u001b[0m\u001b[37m\u001b[0m \u001b[1m5s\u001b[0m 11ms/step - accuracy: 0.9863 - loss: 0.0426 - val_accuracy: 0.9829 - val_loss: 0.0518\n",
      "Epoch 18/100\n",
      "\u001b[1m468/469\u001b[0m \u001b[32m━━━━━━━━━━━━━━━━━━━\u001b[0m\u001b[37m━\u001b[0m \u001b[1m0s\u001b[0m 11ms/step - accuracy: 0.9876 - loss: 0.0425\n",
      "Epoch 18: val_loss did not improve from 0.05181\n",
      "\u001b[1m469/469\u001b[0m \u001b[32m━━━━━━━━━━━━━━━━━━━━\u001b[0m\u001b[37m\u001b[0m \u001b[1m5s\u001b[0m 11ms/step - accuracy: 0.9876 - loss: 0.0425 - val_accuracy: 0.9819 - val_loss: 0.0553\n",
      "Epoch 19/100\n",
      "\u001b[1m465/469\u001b[0m \u001b[32m━━━━━━━━━━━━━━━━━━━\u001b[0m\u001b[37m━\u001b[0m \u001b[1m0s\u001b[0m 10ms/step - accuracy: 0.9870 - loss: 0.0414\n",
      "Epoch 19: val_loss did not improve from 0.05181\n",
      "\u001b[1m469/469\u001b[0m \u001b[32m━━━━━━━━━━━━━━━━━━━━\u001b[0m\u001b[37m\u001b[0m \u001b[1m5s\u001b[0m 11ms/step - accuracy: 0.9870 - loss: 0.0414 - val_accuracy: 0.9817 - val_loss: 0.0534\n",
      "Epoch 20/100\n",
      "\u001b[1m467/469\u001b[0m \u001b[32m━━━━━━━━━━━━━━━━━━━\u001b[0m\u001b[37m━\u001b[0m \u001b[1m0s\u001b[0m 10ms/step - accuracy: 0.9872 - loss: 0.0410\n",
      "Epoch 20: val_loss did not improve from 0.05181\n",
      "\u001b[1m469/469\u001b[0m \u001b[32m━━━━━━━━━━━━━━━━━━━━\u001b[0m\u001b[37m\u001b[0m \u001b[1m5s\u001b[0m 11ms/step - accuracy: 0.9872 - loss: 0.0410 - val_accuracy: 0.9812 - val_loss: 0.0549\n",
      "Epoch 20: early stopping\n"
     ]
    }
   ],
   "source": [
    "# обучение\n",
    "history = model_conv.fit(\n",
    "    x = x_train_conv,\n",
    "    y = y_train_OHE,\n",
    "    batch_size = 128,\n",
    "    epochs = 100,\n",
    "    validation_data = (x_test_conv, y_test_OHE),\n",
    "    verbose = 1,\n",
    "    callbacks = [mch, es]\n",
    ")"
   ]
  },
  {
   "cell_type": "code",
   "execution_count": 10,
   "id": "4c6b18a6",
   "metadata": {},
   "outputs": [
    {
     "name": "stdout",
     "output_type": "stream",
     "text": [
      "upload: ./classifire.keras to s3://cherepanov-bucket/classifire.keras\n"
     ]
    }
   ],
   "source": [
    "# копируем полученную модель на s3-хранилище\n",
    "!aws --endpoint-url=https://storage.yandexcloud.net/ s3 cp classifire.keras s3://cherepanov-bucket/classifire.keras"
   ]
  }
 ],
 "metadata": {
  "kernelspec": {
   "display_name": "Python 3 (ipykernel)",
   "language": "python",
   "name": "python3"
  },
  "language_info": {
   "codemirror_mode": {
    "name": "ipython",
    "version": 3
   },
   "file_extension": ".py",
   "mimetype": "text/x-python",
   "name": "python",
   "nbconvert_exporter": "python",
   "pygments_lexer": "ipython3",
   "version": "3.10.12"
  }
 },
 "nbformat": 4,
 "nbformat_minor": 5
}
